{
 "cells": [
  {
   "cell_type": "markdown",
   "metadata": {},
   "source": [
    "<h1 style=\"text-align: center;\">WRITING</h1>"
   ]
  },
  {
   "cell_type": "markdown",
   "metadata": {},
   "source": [
    "# Contents\n",
    "- Noun-phrases\n",
    "- Paraphrasing\n",
    "- Task 1\n",
    "  - Introduction\n",
    "  - Overview"
   ]
  },
  {
   "cell_type": "markdown",
   "metadata": {},
   "source": [
    "# <h1 style=\"text-align: center;\">[NOUN-PHRASES](https://drive.google.com/file/d/1hFla4O43XDYaepxJJdfvFVZpj-z-RuCP/view?usp=share_link)</h1>\n",
    "## Clause\n",
    "``S + V + (O)``\n",
    "- Verb:\n",
    "  - Intransitive $\\rightarrow$ ``SV`` (E.g. Work).\n",
    "  - Transitive $\\rightarrow$ ``SVO`` (E.g. Do).\n",
    "## N-phrases\n",
    "- **Pre-modifier**:\n",
    "  - ``ADJ + N`` $\\rightarrow$ Characteristic.\n",
    "  - ``N + N`` $\\rightarrow$ Featuring/Platform.\n",
    "- **Post-modifier**:\n",
    "  - ``N + Ving/V3ed`` $\\rightarrow$ Reduced form of relative clause."
   ]
  },
  {
   "cell_type": "markdown",
   "metadata": {},
   "source": [
    "# <h1 style=\"text-align: center;\">PARAPHRASING</h1>\n",
    "## [Synonyms](https://drive.google.com/file/d/19fpYMYGx4oHvwHEQSae993mCM-Fm_u6l/view?usp=share_link)\n",
    "> [LIST](https://github.com/S-ROLL/notebook.language/blob/main/BASIC%20IELTS_29/Writing/synonyms%20list.md)\n",
    "- Condition:\n",
    "  1. Part of speech\n",
    "  2. Meaning\n",
    "- E.g:\n",
    "  - State-of-the-art / Cutting-edge + ``N ➡️ Máy móc, công nghệ, thiết bị, dụng cụ, phát minh, ứng dụng, thiết kế tiên tiến, tối tân.``\n",
    "  - Contemporary + ``N ➡️ Suy nghĩa, điệu múa, âm nhạc, văn hoá, xã hội, lối sống, nền văn minh, con người.``\n",
    "## [Part of speech](https://drive.google.com/file/d/1R0SGNaW0gKsVCbLt2dn8Qg8IcEC8FABM/view?usp=sharing)\n",
    "### Family words\n",
    "> [LIST](https://github.com/S-ROLL/notebook.language/blob/main/BASIC%20IELTS_29/Writing/family%20words.md)\n",
    "\n",
    "```\n",
    "Step 1. Define word having family words.\n",
    "Step 2. Translate to Viet sentence obtained family words.\n",
    "Step 3. Translate to Eng.\n",
    "```\n",
    "### Practice\n",
    "| Topic | Sentence Structure |\n",
    "| ----------- | ----------- |\n",
    "| **POPULARITY 📈** | - An increasing number of ``noun`` have a tendency to ``verb``. <br/> - During the past few years, ``noun`` has become increasingly popular. <br/> - Over the last decades, ``noun`` has gained increasing popularity. |\n",
    "| **2 VIEWS 👀** | - A school of thought holds that ``     ``. <br/> - Some opine that ``     ``. <br/> - Some are of the opinion that ``     ``. <br/> - Some hold a firm belief that ``     ``. |\n",
    "\n",
    "> Modal verb (should, could,...) ➡️ passive voice"
   ]
  },
  {
   "cell_type": "markdown",
   "metadata": {},
   "source": [
    "# <h1 style=\"text-align: center;\">TASK 1</h1>\n",
    "## [INTRODUCTION](https://drive.google.com/file/d/1JiHqPw3w9ZynqOC1m_GloFygAxi3hduR/view?usp=share_link)\n",
    "## [Overview]()"
   ]
  },
  {
   "cell_type": "markdown",
   "metadata": {},
   "source": [
    "# <h1 style=\"text-align: center;\">Exercises</h1>\n",
    "| Exercises | Link | Status |\n",
    "| ----------- | ----------- | ----------- |\n",
    "| CLAUSE >< NOUN PHRASES | [question](https://docs.google.com/document/d/1sRWTcHq9LRnLnzLJJFUg1jIeljRy_zCClPn2n7MHSiw/edit?fbclid=IwZXh0bgNhZW0CMTAAAR19ktFYflJIaQ_eCbIQ3eSdiiRKlqhvoHhpHStg8cBSY0FaQyyCDQif_YY_aem_Ivqhpe_YccpR4ldQxy3yyg) <br/> [submit](https://drive.google.com/drive/folders/1FsEYnPz-B7ZkyCrj9aJFGhys8NikXQxC?fbclid=IwZXh0bgNhZW0CMTAAAR383kKVTTygF1ebtj8mo0AkxGrnFqCL4N6pmI1qJS3ZB4tdShqRzDhqIXc_aem_Gl5p3fHtebFKfcDtBgwejA)  | ☑️ |\n",
    "| PARAPHRASING | [question](https://docs.google.com/document/d/1t5sB8szlP9clfBvV_9uFUy4w3VthnatVVS5TpfqUXqk/edit?fbclid=IwZXh0bgNhZW0CMTAAAR1yuSrPZeeEJZ5CNSEZXEGVpu0nC29ii4Ad5KVIGrz0I04VGIz4NSzeXhs_aem_WwSctkv-CTBJ35W9jQcwxg#heading=h.dgmf7z737zlx) <br/> [submit](https://drive.google.com/drive/folders/1qicMFGO6dSxFBjknb5VUPJiYr1_uoJaW?fbclid=IwZXh0bgNhZW0CMTAAAR07GI5EOvDWLyg55cfwHyheFLorbDeGMgbG-kBuC71IcpGPK8I3-YRfuyw_aem_KlEzyUdftE7Q2Iz5OwgFFg) | ☑️ |\n",
    "| Task 1 - Introduction | [question & submit](https://drive.google.com/drive/folders/1AOLlz6mEvnoohnCSrz15_ODhmVBqUXNh?fbclid=IwZXh0bgNhZW0CMTAAAR1ma2K1r_J-4tCIqrY3V6VHFMKlHFU_J3LWrSxkSAxDqsdDvav6H3WSGt8_aem_ebCf4q_iyV8FI3W9w-uxsw) | ☑️ |\n",
    "| Task 1 - Overview | [question](https://docs.google.com/document/d/1ZpACt8oEkXEKIxlqSCc61LLJANDOszVAdyASC6XE97M/edit?fbclid=IwZXh0bgNhZW0CMTAAAR3PExno_V4qYGpBc6JeMCncriM3-PuXnOyVwo-6xMdo2l1T-EoLQddWfaI_aem_lPEapdENNbww_7cCynSYlA) <br/> [submit](https://drive.google.com/drive/folders/1BnflgM8mA1SxlwjLa6WitkgSqJ_ti0OY?fbclid=IwZXh0bgNhZW0CMTAAAR0yKnErSHRTJD4jktiN1zDAfrI2-uxMFtyT3PcaG8-4SOU1urQcc2Yjonk_aem_EKH6VO-Cf8P44ZrDqFkdRw) | |"
   ]
  }
 ],
 "metadata": {
  "kernelspec": {
   "display_name": "Python 3",
   "language": "python",
   "name": "python3"
  },
  "language_info": {
   "codemirror_mode": {
    "name": "ipython",
    "version": 3
   },
   "file_extension": ".py",
   "mimetype": "text/x-python",
   "name": "python",
   "nbconvert_exporter": "python",
   "pygments_lexer": "ipython3",
   "version": "3.12.4"
  }
 },
 "nbformat": 4,
 "nbformat_minor": 2
}
