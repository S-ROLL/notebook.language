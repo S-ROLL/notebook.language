{
 "cells": [
  {
   "cell_type": "markdown",
   "metadata": {},
   "source": [
    "<h1 style=\"text-align: center;\">READING</h1>"
   ]
  },
  {
   "cell_type": "markdown",
   "metadata": {},
   "source": [
    "# Contents\n",
    "- Keywords\n",
    "- Completion questions\n",
    "- Multiple choice"
   ]
  },
  {
   "cell_type": "markdown",
   "metadata": {},
   "source": [
    "# <h1 style=\"text-align: center;\">[Keywords](https://drive.google.com/file/d/1LokVtxI0IQLM5y-nRoYc9YB0Eyy9t_b1/view?usp=sharing)</h1>\n",
    "## Locating words\n",
    "- Geographical location ⛰️\n",
    "- Name of an academic 🧪\n",
    "- History period ⏲️\n",
    "- Title of a publication 📰\n",
    "- Date of a study / survey 📅\n",
    "- Species / An animal 🐶\n",
    "- Terminology 📘\n",
    "## [Words with similar meanings (contextualized)](https://github.com/S-ROLL/notebook.language/blob/main/BASIC%20IELTS_29/Writing/synonyms%20list.md)\n",
    "E.g. The study by **Canadian** scientists in **2011** made a surprising discovery. -> \"...and this was a finding that was completely unexpected.\"\n",
    "```\n",
    "1. surprising ~ unexpected\n",
    "2. discovery ~ finding\n",
    "```\n"
   ]
  },
  {
   "cell_type": "markdown",
   "metadata": {},
   "source": [
    "# <h1 style=\"text-align: center;\">[COMPLETION QUESTIONS](https://drive.google.com/file/d/1NnMOTvewQ1LaKjUdC0AnZTD84ZUwEd7v/view?usp=sharing)</h1>\n",
    "## Rules\n",
    "1. Pick the exact words in the text.\n",
    "2. Word limit (NO MORE THAN ``  `` WORDS AND/OR A NUMBER).\n",
    "3. Word form [(Part of Speech)](https://github.com/S-ROLL/notebook.language/blob/main/BASIC%20IELTS_29/Writing/family%20words.md)\n",
    "4. Words with similar meanings [(synonyms)](https://github.com/S-ROLL/notebook.language/blob/main/BASIC%20IELTS_29/Writing/synonyms%20list.md)\n",
    "## No 🚫\n",
    "1. Vượt số lượng từ cho phép.\n",
    "2. Từ đã được **paraphrase**.\n",
    "## Word form\n",
    "- **Noun 🧒**\n",
    "  - Đếm được\n",
    "    - Số ít ➡️ `` a/an + N ``.\n",
    "    - Số nhiều ➡️ ``to be``.\n",
    "  - Không đếm được ➡️ ``to be``.\n",
    "- **Verb 🏃** ➡️ y chang\n",
    "  > **Note:** Intransitive ➡️ ``V``. Transitive ➡️ ``V + O``.\n",
    "- **Adj 🥀 / V3ed (passive) 💥**\n",
    "  - ``To be`` + Adj\n",
    "  - Adj + ``Noun``\n",
    "  - ``Linking verb`` + Adj\n",
    "  - ``make / find / keep`` + Adj\n",
    "  - ``leave + O`` + Adj\n"
   ]
  },
  {
   "cell_type": "markdown",
   "metadata": {},
   "source": [
    "# <h1 style=\"text-align: center;\">[Multiple Choice](https://drive.google.com/file/d/1MojIZNzdKyi-4ewVHlHFlmsssa9fxmuW/view?usp=share_link)</h1>"
   ]
  },
  {
   "cell_type": "markdown",
   "metadata": {},
   "source": [
    "\n",
    "# <h1 style=\"text-align: center;\">Exercises</h1>\n",
    "| Exercises | Link | Status |\n",
    "| ----------- | ----------- | ----------- |\n",
    "| Key words | [question](https://docs.google.com/document/d/1h9ByLyHFEG9Uvx8qbzfVuoZ9Qw7GSkoTh_6KYcGeGss/edit?fbclid=IwZXh0bgNhZW0CMTAAAR2_g8Zg8m88vdwoaLPL8Fp-kKUSF3qoqRmHE6E8K5W5gdPrCoNHtgLCyQ0_aem_vYAow8JTbYBrIgPynlSzXg) <br/> [submit](https://drive.google.com/drive/folders/1860uUHxJozP5UAVUTvI-cOwn0_f9R8fM?fbclid=IwZXh0bgNhZW0CMTAAAR1j8kVFBkBADPol4Ig_NsuRwaeqhj6sFHTUrdxhXu14Z-9OFX9N1bbrJHM_aem_SGo4j_yVwFDn4EKXnEL1Ag) | |\n",
    "| TRANSLATION_W1 | [question](https://docs.google.com/document/d/1_1NE9DxT9_t9q0DcqMypFihBsPE6oGxfB4dyUVPCUR4/edit?fbclid=IwZXh0bgNhZW0CMTAAAR01oq9BTeNva-XxQR8XfbqoZGSy1agIK-_Euz_oS1e6CmY-jjANkKP79bw_aem_WEO_9SgqZtDh3TzeW5HJRg) <br/> [submit](https://drive.google.com/drive/folders/1ctYdZU5iOOSiLIK-md5NvSc93raweY-p?fbclid=IwZXh0bgNhZW0CMTAAAR1ZQ_Rqmjg9y_E6DrjRFLbccChlq3kE7mkeQ1mRyo-JsBFyrplMaZlRWaI_aem_k0G71DL8ixc-rlXHUdY-wA) <br/> [result](https://docs.google.com/document/d/1arRZkShZNHGVxbdkI5fR4toBqNzieOtCzh2csUNmkRM/edit?fbclid=IwZXh0bgNhZW0CMTAAAR2wFcmEN2l_eNgz-B9VcyqKd9-tWfkyYsnrwZuh2DlzqdM7JcSb36Xs_9A_aem_9cambaajCB4ObiYI7glX4A#heading=h.dbh8kfe9xxtb) | |\n",
    "| Completion | [question](https://docs.google.com/document/d/16NkNLH5ScYLtxBdrVqTB7uEcQbzmvEkj0UHfhNzG2K8/edit?fbclid=IwZXh0bgNhZW0CMTAAAR1t4egI6SZUU2pxBUonU0RHTa4uZIgAGSuD_q6gwrgqTtcCpZtpBbNV5Pk_aem_CA6Qat4tuM9UxwWERwkZ-w) <br/> [submit](https://drive.google.com/drive/folders/13p86IuM5zJGVSunoj4rPuRSSoxwJRZdD?fbclid=IwZXh0bgNhZW0CMTAAAR0K8P-BI_eWEMSzJUHbP2OL998hYrtP_adRc9xasjFlQQhb2VovdDgNI9Q_aem_ING3lxFBBpsAQhO8MeMsVA) | |\n",
    "| TRANSLATION_W2 | [question](https://docs.google.com/document/d/1z3UmKokjn8_xh3srM2WmtUUsO-MgYmEof75Wx7it5_4/edit?fbclid=IwZXh0bgNhZW0CMTAAAR0pSaKTEQaDOw9ugwKx7DHFKezhDyQDsqM0MjLtVwAHhPyugdWmE4jicDQ_aem_QBroFell5rWP7M77HEci9A) <br/> [submit](https://drive.google.com/drive/folders/18lyaKq0sqVThDuRBfNY6fbCYTaJ4t_FI?fbclid=IwZXh0bgNhZW0CMTAAAR13GX5jDHUVCejHi6ZxRcjjrbZGOuYYQ91dGyup_oL-YV_JBuGT_iWxYUk_aem_MSzdMidO_1qp7Nun8ta0EA) <br/> [result](https://docs.google.com/document/d/1arRZkShZNHGVxbdkI5fR4toBqNzieOtCzh2csUNmkRM/edit?fbclid=IwZXh0bgNhZW0CMTAAAR2wFcmEN2l_eNgz-B9VcyqKd9-tWfkyYsnrwZuh2DlzqdM7JcSb36Xs_9A_aem_9cambaajCB4ObiYI7glX4A#heading=h.dbh8kfe9xxtb) | |\n",
    "| TRANSLATION_W3 | [question](https://drive.google.com/drive/folders/1-Jn0nqFXEvDVrBOo1mAL0wrk4StBL4Ge?fbclid=IwZXh0bgNhZW0CMTAAAR2IUHKd4E0CRLXjZ9hAPcRJcy6CHPVXfVqcmB9IBiKXhY9T3LYWZ6NtfpE_aem_lNIAUx8m-Hd9VC4jSEG_lw) <br/> [submit](https://drive.google.com/drive/folders/1F3-5FrvLyCFYA-WYKJM4nQI8mJv0-dao?fbclid=IwZXh0bgNhZW0CMTAAAR3jP9s0pQJHyRp_ztwbiQRFnu3YmV3AUOYiuwwr_uUkJnwmOiqkHQnC-z4_aem_LOHmddQazAdBzv50zpb3yQ) <br/> [result](https://docs.google.com/document/d/1arRZkShZNHGVxbdkI5fR4toBqNzieOtCzh2csUNmkRM/edit?fbclid=IwZXh0bgNhZW0CMTAAAR2wFcmEN2l_eNgz-B9VcyqKd9-tWfkyYsnrwZuh2DlzqdM7JcSb36Xs_9A_aem_9cambaajCB4ObiYI7glX4A#heading=h.dbh8kfe9xxtb) | |"
   ]
  }
 ],
 "metadata": {
  "language_info": {
   "name": "python"
  }
 },
 "nbformat": 4,
 "nbformat_minor": 2
}
