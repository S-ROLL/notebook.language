{
 "cells": [
  {
   "cell_type": "markdown",
   "metadata": {},
   "source": [
    "<h1 style=\"text-align: center;\">SPEAKING</h1>"
   ]
  },
  {
   "cell_type": "markdown",
   "metadata": {},
   "source": [
    "- Pronunciation $\\rightarrow$ 9\n",
    "- Fluency and Coherence $\\rightarrow$ 9\n",
    "- Lexical Resources (vocab) $\\rightarrow$ 9 $\\rightarrow$ topic-related vocab + academic language\n",
    "- Grammatical Range + Accuracy $\\rightarrow$ 9"
   ]
  },
  {
   "cell_type": "markdown",
   "metadata": {},
   "source": [
    "# Contents\n",
    "- Liking/Disliking️\n",
    "- Choice\n",
    "- Describe"
   ]
  },
  {
   "cell_type": "markdown",
   "metadata": {},
   "source": [
    "# <h1 style=\"text-align: center;\">[Liking / Disliking Questions](https://drive.google.com/file/d/1N9Xzz_0vv57bAUOoe0ppYM0m6gWH1GUr/view?usp=sharing)</h1>\n",
    "## Idea development\n",
    "- Like $\\rightarrow$ yes $\\rightarrow$ particular type $\\rightarrow$ reason (topic-related vocab + cohenrence) $\\rightarrow$ feeling / frequency.\n",
    "- Dislike $\\rightarrow$ no $\\rightarrow$ reason (related info / personality) $\\rightarrow$ general feelings / alternative (another choice).\n",
    "- **Tips**:\n",
    "  - Double tense (past - present).\n",
    "  - Structure highlights:\n",
    "    - (Not) have a **strong liking (penchant)** for\n",
    "    - *Be* (not) **really into** + N/Ving\n",
    "    - *Be* an (a) **avid (big fan)** of st\n",
    "    - *Be* (not) an **avid + Noun-er** (reader, runner, traveler,...)\n",
    "    - St *be* my **Noun** of choice\n",
    "    - My favorite + Noun $\\rightarrow$ My **go-to** + Noun\n",
    "- **Trick**: Hobbies $\\rightarrow$ Present perfect.\n",
    "- **WHAT DO / DONT YOU LIKE ABOUT YOUR HOMETOWN?** $\\rightarrow$ PARTICULAR ASPECT.\n",
    "  - There are quite a *number of (several)* things I (don't) really enjoy about ``   ``, but ``(1)``\n",
    "    - (1): what I find most enjoyable is + N-Phrase (that SVO).\n",
    "    - (1): what really annoys me all the time is + N-Phrase (that SVO).\n",
    "  - One particular thing I don't like about ``   `` is ``   ``. It's something that's been bugging me a lot recently. I wish + S + V2ed (could/would).\n",
    "- **What dont you like about your study?** $\\rightarrow$ PARTICULAR ASPECT.\n",
    "  - There are quite a number of things I dont really enjoy about my study, but what bugs me all the time is ``   ``."
   ]
  },
  {
   "cell_type": "markdown",
   "metadata": {},
   "source": [
    "# <h1 style=\"text-align: center;\">[Choice question](https://drive.google.com/file/d/1btbL8yz_d9_-jNwVFPiNAbeuxfIe4Rnj/view?usp=share_link)</h1>\n",
    "[sample answers](https://docs.google.com/document/d/1qPjgK4IGrnUKlj18ifQgesLyKt04CBxufSm9_b8URcI/edit)\n",
    "## `` Do you like (prefer) A or B ? ``\n",
    "- **1 of the 2 options**\n",
    "  - I would probably 😕 (definitely 💯) go for (opt for) ``paraphrasing / the former / the latter``\n",
    "  - I'm more inclined 😗 to ``V``\n",
    "  - I lean towards 😗 ``A/B``\n",
    "- **It depends**\n",
    "  - It kinda (sorta) depends 💁‍♂️\n",
    "  - It depends (would depend) on + ``factor❗``\n",
    "  - If ``case 1`` ➡️ ``A``, If ``case 2`` ➡️ ``B``\n",
    "- **Neither**\n",
    "  - Well, maybe (probably) neither of them 🙅‍♂️ ➡️ ``reasons + personal choice``\n",
    "  - Could I say neither of them? 😉 ➡️ ``reasons + personal choice``\n",
    "## Note\n",
    "- Comparision / contrast language.\n",
    "- Discuss both sides.\n"
   ]
  },
  {
   "cell_type": "markdown",
   "metadata": {},
   "source": [
    "# <h1 style=\"text-align: center;\">[Describe](https://drive.google.com/file/d/1JvY8FqRC3vSwaM81RlUeLmHtnMH3TFh9/view?usp=sharing)</h1>\n",
    "[fixing clip](https://drive.google.com/file/d/1O1X5xzqqVfAq56QNQWSQpHa6cuTTVECV/view?usp=sharing) <br/> [sample](https://github.com/S-ROLL/notebook.language/blob/main/BASIC%20IELTS_29/Speaking/describe_sample.md)\n",
    "## Describe a job that you do not like to do in the future\n",
    "- child 👶 ➡️ childhood dream ➡️ harbor a dream of ``Ving`` ``   `` ➡️ ❓why❓\n",
    "- as I grow older 👨‍🦲 ➡️ change mindset ➡️ It's just dawned on me that ➡️ ❓reasons❓\n",
    "- be not born to become `` noun`` 🙅‍♂️\n",
    "- have no knack for ``Ving`` ``   `` 💃\n",
    "- do not have (possess) what it takes to become `` noun`` 🙅‍♂️\n",
    "- be too ``adj (physically / mentally)`` demanding for me ``   `` 💥\n",
    "## Describe an occasion when you heard someone complaining about something in a restaurant / store or other business places\n",
    "- witness a significant complaint 👀\n",
    "- show dissatisfaction 💢\n",
    "- make a complaint 💬\n",
    "- insist on ``Ving`` 💢\n",
    "- tick (piss) someone off ➡️ ticked (pissed) me off ➡️ I got pissed off (nothing is more important than hygiene) 😠\n",
    "- make a fuss 📢\n",
    "- complain bitterly 🤦‍♂️\n",
    "- lose one's cool ➡️ shout at / yell at 🔊\n",
    "- offensive language 😡\n"
   ]
  },
  {
   "cell_type": "markdown",
   "metadata": {},
   "source": [
    "# <h1 style=\"text-align: center;\">Exercises</h1>\n",
    "| Exercises | Link | Status |\n",
    "| ----------- | ----------- | ----------- |\n",
    "| Liking/Disliking | [question](https://docs.google.com/document/d/1HHW2v5XKuEQLqqodME4ZsO8tdU7WcHHSv4sNajd2AMo/edit) <br/> [submit](https://drive.google.com/drive/folders/1JnJnZMa7RJXK5A8_Ii7_C2byetTcYFxS) | ☑️ |\n",
    "| Choice | [question](https://docs.google.com/document/d/1T57vS57hC1dz-_VI3lmalnc0_lgKRBKBQzxiYYFrWy8/edit) <br/> [submit](https://drive.google.com/drive/folders/1J4-n1VGhiYVHaYNJtOBzgiyfhDI40Bey?fbclid=IwZXh0bgNhZW0CMTAAAR3Ap1pZqZ2kDr9K5ZBeJiSCq5v2Fff7DgqVgQKDM1rCQYpnWqRBJSLvI3U_aem_bG6q1l6PpMketaNqU1ZPYQ) | ☑️ |\n",
    "| Describe | [question](https://docs.google.com/document/d/17So7kWvpgBwHX6KNqsak3BUh7zQ-TEJvavD_UNtj0Tg/edit?fbclid=IwZXh0bgNhZW0CMTAAAR2ECzHY8rnL90Muqh3YoYKd9WPhqA2WOMXLGE6bA67o3_D1W82diUp1jCg_aem_cB0fFEom7j5n9gyL77W4DQ) <br/> [script submit](https://drive.google.com/drive/folders/1qIeJe688hnVDOW0aMY4ZLzJAmZkEpTMZ?fbclid=IwZXh0bgNhZW0CMTAAAR2Y84IugnClUPyhYM6sD8nSP1YM5lR8UA-90uAHX8fRP6FwaUI43UB-M2E_aem_JzVMM7X10SMqyqgv8wu1_g) <br/> [video submit](https://drive.google.com/drive/folders/1-SO2_DsocPXHAY-OSv2EGuv7YtP3zq12?fbclid=IwZXh0bgNhZW0CMTAAAR3EDH9w8dmC_j2aAG1smo8zSKjlhCsZlBkDTezznfkHCKjBSiwORqnzIiM_aem_GCIzvPB39iHQ7IqtC6dN9A) | script: ☑️ <br/> video: |\n",
    "| INTONATION | [question & submit](https://drive.google.com/drive/folders/1NdA-taWRM7tZ1gXMWHwf3CzO8Ap8Gvg0?fbclid=IwZXh0bgNhZW0CMTAAAR3PExno_V4qYGpBc6JeMCncriM3-PuXnOyVwo-6xMdo2l1T-EoLQddWfaI_aem_lPEapdENNbww_7cCynSYlA) | |"
   ]
  }
 ],
 "metadata": {
  "language_info": {
   "name": "python"
  }
 },
 "nbformat": 4,
 "nbformat_minor": 2
}
