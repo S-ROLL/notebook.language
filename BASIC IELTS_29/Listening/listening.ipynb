{
 "cells": [
  {
   "cell_type": "markdown",
   "metadata": {},
   "source": [
    "<h1 style=\"text-align: center;\">LISTENING</h1>"
   ]
  },
  {
   "cell_type": "markdown",
   "metadata": {},
   "source": [
    "## Contents\n",
    "- Alphabet\n",
    "- Numbers\n",
    "- Multiple choice"
   ]
  },
  {
   "cell_type": "markdown",
   "metadata": {},
   "source": [
    "# <h1 style=\"text-align: center;\">[Alphabet](https://drive.google.com/file/d/1LokVtxI0IQLM5y-nRoYc9YB0Eyy9t_b1/view?usp=sharing)</h1>"
   ]
  },
  {
   "cell_type": "markdown",
   "metadata": {},
   "source": [
    "# <h1 style=\"text-align: center;\">[Numbers](https://drive.google.com/file/d/1NnMOTvewQ1LaKjUdC0AnZTD84ZUwEd7v/view?usp=sharing)</h1>"
   ]
  },
  {
   "cell_type": "markdown",
   "metadata": {},
   "source": [
    "# <h1 style=\"text-align: center;\">Exercises</h1>\n",
    "| Exercises | Link | Status |\n",
    "| ----------- | ----------- | ----------- |\n",
    "| Name spelling | [question & submit](https://docs.google.com/forms/d/e/1FAIpQLSe4P7R6RqjYdxyYSroniGPYZm9vxJiHoDSBZCsKGKocVVnlgA/viewform) | ☑️ |\n",
    "| DICTATION_W1 | [question & submit](https://docs.google.com/forms/d/e/1FAIpQLSc5ROsll_3bt43znSO026kTc6Od-GpZfWJkgs03wiIgyidNNA/viewform) | ☑️ |\n",
    "| NUMBERS | [question & submit](https://docs.google.com/forms/d/e/1FAIpQLSd2ed9zISv-Ns4mod6j-jcUp-o68UdCQ6gi1Nqm3UUrwl9qAQ/viewform) | |\n",
    "| DICTATION_W2 | [question & submit](https://docs.google.com/forms/d/e/1FAIpQLSdxAJLB0b1feJF1R9iJeDaODEpJ12wPOjOvljv0BG99_KiavQ/viewform) | |\n",
    "| DICTATION_W3 | [question & submit](https://docs.google.com/forms/d/e/1FAIpQLSe2ok1nUDi3TYmm8I13Nrya1_9-KQ8PMHU_STqbOmHIqliGfQ/viewform) | |\n",
    "| COMPLETION | [question & submit](https://docs.google.com/forms/d/e/1FAIpQLSd2UgugjiPg1qni6d9zEfAcBSMIGag97FH_dZ0yJP8abIBt6A/viewform) <br/> [script](https://docs.google.com/document/d/1Ik-rSuUsTcNDsXKd07YEjJehrj8shXRBm4UVLbdJiUM/edit?fbclid=IwZXh0bgNhZW0CMTAAAR30kDJkxTjQsAdjQkTO4oFYQRKqAPVj_uQCQQe3Ob2K7abuh7g_X-6I98g_aem_FdiYGwpWWqVOCTa_h_OUlA) | |\n",
    "| DICTATION_W4 | [question & submit](https://docs.google.com/forms/d/e/1FAIpQLScHIh41wGTqvE47mi-5I34SpPtEIletvHUMb8k2YTtFFHspwA/viewform) | |"
   ]
  }
 ],
 "metadata": {
  "language_info": {
   "name": "python"
  }
 },
 "nbformat": 4,
 "nbformat_minor": 2
}
